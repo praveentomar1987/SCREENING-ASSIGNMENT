{
 "cells": [
  {
   "cell_type": "markdown",
   "id": "5c9a5a76",
   "metadata": {},
   "source": [
    "## Q1. Create a function in python to read the text file and replace specific content of the file.\n",
    "## File name # example.txt\n",
    "## Origin file content # This is a placement assignment\n",
    "## Replace string # Placement should be replaced by screening.\n",
    "## Replaced file content #This is a screening assignment"
   ]
  },
  {
   "cell_type": "markdown",
   "id": "5e6dfb23",
   "metadata": {},
   "source": [
    "### ANS1."
   ]
  },
  {
   "cell_type": "code",
   "execution_count": 1,
   "id": "7f2b99df",
   "metadata": {},
   "outputs": [],
   "source": [
    "#Creating the file example.txt\n",
    "f=open('example.txt','w')"
   ]
  },
  {
   "cell_type": "code",
   "execution_count": 2,
   "id": "ebefd4f1",
   "metadata": {},
   "outputs": [
    {
     "data": {
      "text/plain": [
       "30"
      ]
     },
     "execution_count": 2,
     "metadata": {},
     "output_type": "execute_result"
    }
   ],
   "source": [
    "#writing the given text inside the file\n",
    "f.write('This is a placement assignment')"
   ]
  },
  {
   "cell_type": "code",
   "execution_count": 3,
   "id": "8521ad42",
   "metadata": {},
   "outputs": [],
   "source": [
    "#closing the file because after that only we'll be able to see whatever we have written\n",
    "f.close()"
   ]
  },
  {
   "cell_type": "code",
   "execution_count": 4,
   "id": "8d0befcd",
   "metadata": {},
   "outputs": [
    {
     "data": {
      "text/plain": [
       "'This is a placement assignment'"
      ]
     },
     "execution_count": 4,
     "metadata": {},
     "output_type": "execute_result"
    }
   ],
   "source": [
    "#reading the file \n",
    "f=open('example.txt','r+') \n",
    "#r+ for reading and writing both\n",
    "f.read()"
   ]
  },
  {
   "cell_type": "code",
   "execution_count": 5,
   "id": "7d1a39de",
   "metadata": {},
   "outputs": [],
   "source": [
    "f.close()"
   ]
  },
  {
   "cell_type": "code",
   "execution_count": 6,
   "id": "bc2f54a3",
   "metadata": {},
   "outputs": [],
   "source": [
    " #replacing string - screening in place of placement\n",
    "f = open(\"example.txt\",'r+' )\n",
    "s=f.read().replace(\"placement\", \"screening\" )\n",
    "f.close()\n",
    "\n",
    "# Now replacing the file content using write function\n",
    "f=open(\"example.txt\",\"r+\")\n",
    "f.write(s)\n",
    "f.close()"
   ]
  },
  {
   "cell_type": "code",
   "execution_count": 7,
   "id": "a9b226ce",
   "metadata": {},
   "outputs": [
    {
     "data": {
      "text/plain": [
       "'This is a screening assignment'"
      ]
     },
     "execution_count": 7,
     "metadata": {},
     "output_type": "execute_result"
    }
   ],
   "source": [
    "f=open('example.txt','r+')\n",
    "f.read()"
   ]
  },
  {
   "cell_type": "markdown",
   "id": "166454f4",
   "metadata": {},
   "source": [
    "## Q2. Demonstrate use of abstract class, multiple inheritance and decorator in python using examples."
   ]
  },
  {
   "cell_type": "markdown",
   "id": "6f550ae1",
   "metadata": {},
   "source": [
    "### ANS2. Multiple Inheritance \n",
    "When a class is derived from more than one base class it is called multiple Inheritance. The derived class inherits all the features of the base case."
   ]
  },
  {
   "cell_type": "markdown",
   "id": "2938fbe6",
   "metadata": {},
   "source": [
    "### Decorator\n",
    "It's a pre written function that's available in Python Module.\n",
    "It allows a user to add new functionality to an existing object without modifying its structure. Decorators are usually called before the definition of a function you want to decorate. We can check decorators by using @"
   ]
  },
  {
   "cell_type": "code",
   "execution_count": 8,
   "id": "a15e8a63",
   "metadata": {},
   "outputs": [
    {
     "name": "stdout",
     "output_type": "stream",
     "text": [
      "Batch : 2\n",
      "course : FSDS\n"
     ]
    }
   ],
   "source": [
    "#Multiple inheritance\n",
    "  \n",
    "# Parent class1\n",
    "class Batch_number:\n",
    "    batchnumber = \"\"         #staticvariable\n",
    "    def __init__(self,a,b,c):\n",
    "        self.a = a \n",
    "        self.b= b \n",
    "        self.c = c    \n",
    "    @staticmethod           #decorator\n",
    "    def batch():\n",
    "        print(self.batchnumber)\n",
    " \n",
    "# Parent class2\n",
    "class course_name:\n",
    "    cname = \"\"\n",
    "    def course(self):\n",
    "        print(self.cname)\n",
    " \n",
    "# Child class\n",
    "class Student(Batch_number, course_name):\n",
    "    def deets(self):\n",
    "        print(\"Batch :\", self.batchnumber)\n",
    "        print(\"course :\", self.cname)\n",
    " \n",
    "# Child class code\n",
    "s1 = Student(4,5,6)\n",
    "s1.batchnumber = \"2\"\n",
    "s1.cname = \"FSDS\"\n",
    "s1.deets()"
   ]
  },
  {
   "cell_type": "markdown",
   "id": "36ebe2e9",
   "metadata": {},
   "source": [
    "### Abstract Class\n",
    "A class is called an Abstract class if it contains one or more abstract methods. An abstract method is a method that is declared, but contains no implementation. Abstract classes may not be instantiated and its abstract methods must be implemented by its subclasses."
   ]
  },
  {
   "cell_type": "code",
   "execution_count": 9,
   "id": "c32ff47d",
   "metadata": {},
   "outputs": [],
   "source": [
    "# abstract base class work   \n",
    "from abc import ABC, abstractmethod   \n",
    "class Car(ABC): \n",
    "    @abstractmethod\n",
    "    def mileage(self):\n",
    "        print(\"yes\")\n",
    "    @abstractmethod\n",
    "    def speed(self):\n",
    "        pass\n",
    "    @abstractmethod\n",
    "    def seats(self):\n",
    "        pass"
   ]
  },
  {
   "cell_type": "code",
   "execution_count": 10,
   "id": "e80ec83f",
   "metadata": {},
   "outputs": [
    {
     "ename": "TypeError",
     "evalue": "Can't instantiate abstract class Car with abstract methods mileage, seats, speed",
     "output_type": "error",
     "traceback": [
      "\u001b[1;31m---------------------------------------------------------------------------\u001b[0m",
      "\u001b[1;31mTypeError\u001b[0m                                 Traceback (most recent call last)",
      "\u001b[1;32m~\\AppData\\Local\\Temp/ipykernel_13348/270207163.py\u001b[0m in \u001b[0;36m<module>\u001b[1;34m\u001b[0m\n\u001b[1;32m----> 1\u001b[1;33m \u001b[0mobj\u001b[0m\u001b[1;33m=\u001b[0m\u001b[0mCar\u001b[0m\u001b[1;33m(\u001b[0m\u001b[1;33m)\u001b[0m\u001b[1;33m\u001b[0m\u001b[1;33m\u001b[0m\u001b[0m\n\u001b[0m",
      "\u001b[1;31mTypeError\u001b[0m: Can't instantiate abstract class Car with abstract methods mileage, seats, speed"
     ]
    }
   ],
   "source": [
    "obj=Car()"
   ]
  }
 ],
 "metadata": {
  "kernelspec": {
   "display_name": "Python 3 (ipykernel)",
   "language": "python",
   "name": "python3"
  },
  "language_info": {
   "codemirror_mode": {
    "name": "ipython",
    "version": 3
   },
   "file_extension": ".py",
   "mimetype": "text/x-python",
   "name": "python",
   "nbconvert_exporter": "python",
   "pygments_lexer": "ipython3",
   "version": "3.9.7"
  }
 },
 "nbformat": 4,
 "nbformat_minor": 5
}
